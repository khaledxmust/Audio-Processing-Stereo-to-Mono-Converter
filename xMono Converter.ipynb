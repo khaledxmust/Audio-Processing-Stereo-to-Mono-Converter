{
 "cells": [
  {
   "cell_type": "code",
   "execution_count": 1,
   "metadata": {},
   "outputs": [],
   "source": [
    "import os \n",
    "import audioop\n",
    "from auditok import AudioRegion"
   ]
  },
  {
   "cell_type": "markdown",
   "metadata": {},
   "source": [
    "### Stereo to Mono Converter"
   ]
  },
  {
   "cell_type": "code",
   "execution_count": 2,
   "metadata": {},
   "outputs": [],
   "source": [
    "def MonoConverter(path): \n",
    "    \n",
    "    i = 0\n",
    "    \n",
    "    try: os.mkdir(\"Converted\")\n",
    "    except: pass\n",
    "    \n",
    "    for file in os.listdir(path):\n",
    "        \n",
    "        Audio = AudioRegion.load(os.getcwd()+\"\\\\\"+path+\"\\\\\"+file) \n",
    "\n",
    "        Data = audioop.tomono(bytes(Audio), Audio.sample_width, 0.5, 0.5)\n",
    "\n",
    "        region_mono = AudioRegion(Data, sample_width=Audio.sw, sampling_rate=Audio.sr, channels=1)\n",
    "        \n",
    "        filename = region_mono.save(\"Converted/Mono \" + str(i) + \".wav\")\n",
    "  \n",
    "        i += 1\n",
    "        \n",
    "        print(\"Processing Audio: \" + str(i), end=\"\\r\")"
   ]
  },
  {
   "cell_type": "code",
   "execution_count": null,
   "metadata": {},
   "outputs": [],
   "source": [
    "print('Enter the audio folder path') \n",
    "path = input()\n",
    "MonoConverter(path)"
   ]
  },
  {
   "cell_type": "code",
   "execution_count": null,
   "metadata": {},
   "outputs": [],
   "source": []
  }
 ],
 "metadata": {
  "kernelspec": {
   "display_name": "Python 3",
   "language": "python",
   "name": "python3"
  },
  "language_info": {
   "codemirror_mode": {
    "name": "ipython",
    "version": 3
   },
   "file_extension": ".py",
   "mimetype": "text/x-python",
   "name": "python",
   "nbconvert_exporter": "python",
   "pygments_lexer": "ipython3",
   "version": "3.7.4"
  }
 },
 "nbformat": 4,
 "nbformat_minor": 2
}
